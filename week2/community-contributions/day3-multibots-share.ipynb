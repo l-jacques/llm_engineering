{
 "cells": [
  {
   "cell_type": "markdown",
   "id": "4a10eb9a-1a49-4950-a599-5910f4b7e1bf",
   "metadata": {},
   "source": [
    "## Day3 recap"
   ]
  },
  {
   "cell_type": "code",
   "execution_count": 1,
   "id": "27dd339e-d693-4546-96ff-29d063822850",
   "metadata": {},
   "outputs": [],
   "source": [
    "import gradio as gr\n",
    "from AISystem import AI,formatPrompt, AISystem, load_allbots"
   ]
  },
  {
   "cell_type": "code",
   "execution_count": 2,
   "id": "7deca686-23f7-47ca-9105-c3e368bca1f1",
   "metadata": {},
   "outputs": [
    {
     "name": "stdout",
     "output_type": "stream",
     "text": [
      "OpenAI API Key exists and begins sk-proj-\n",
      "Anthropic API Key exists and begins sk-ant-\n",
      "Google API Key exists and begins AIzaSyC-\n"
     ]
    }
   ],
   "source": [
    "\n",
    "openai, claude, gemini_via_openai, ollama_via_openai = load_allbots()\n",
    "openai_model = \"gpt-4o-mini\"\n",
    "claude_model = \"claude-3-haiku-20240307\"\n",
    "gemini_model = \"gemini-1.5-flash\"\n",
    "ollama_model = \"llama3.2\""
   ]
  },
  {
   "cell_type": "markdown",
   "id": "992407b0-7ca7-4dce-9605-4ac05d211561",
   "metadata": {},
   "source": [
    "## System Definition\n"
   ]
  },
  {
   "cell_type": "code",
   "execution_count": 3,
   "id": "01ea91ee-3d76-4b00-9b64-4e86512dc49c",
   "metadata": {},
   "outputs": [],
   "source": [
    "system_message = \"You are a meteorologist expert\"\n",
    "\n",
    "system_prompt = formatPrompt(\"system\", system_message)"
   ]
  },
  {
   "cell_type": "markdown",
   "id": "618d31f6-2819-4abd-b43e-55faf98ee3a1",
   "metadata": {},
   "source": [
    "## Create LLMS Systems"
   ]
  },
  {
   "cell_type": "code",
   "execution_count": 4,
   "id": "d20a3053-bd16-45d6-9d9a-70ffde0cbc97",
   "metadata": {},
   "outputs": [],
   "source": [
    "geminiSys = AISystem(gemini_via_openai,\n",
    "                        system_prompt, \n",
    "                        gemini_model,\n",
    "                        AI.GEMINI)\n",
    "\n",
    "openAiSys = AISystem(openai,\n",
    "                        system_prompt, \n",
    "                        openai_model,\n",
    "                        AI.OPEN_AI)\n",
    "\n",
    "claudeSys = AISystem(claude,\n",
    "                       system_prompt, \n",
    "                       claude_model,\n",
    "                        AI.CLAUDE)\n",
    "\n",
    "ollamaSys = AISystem(ollama_via_openai,\n",
    "                        system_prompt, \n",
    "                        ollama_model,\n",
    "                        AI.OLLAMA)\n",
    "sys_dict = { AI.GEMINI: geminiSys, AI.OPEN_AI: openAiSys, AI.CLAUDE: claudeSys, AI.OLLAMA: ollamaSys}\n",
    "\n"
   ]
  },
  {
   "cell_type": "markdown",
   "id": "bf52316a-8817-436f-b0e6-23d02a8fa81d",
   "metadata": {},
   "source": [
    "## Chat function\n",
    "its signature has to be chat(message, history) as it's expected by gradio"
   ]
  },
  {
   "cell_type": "code",
   "execution_count": null,
   "id": "8f92f25f-3c3c-46d2-aa12-6b40ba0be36b",
   "metadata": {},
   "outputs": [
    {
     "name": "stdout",
     "output_type": "stream",
     "text": [
      "* Running on local URL:  http://127.0.0.1:17660\n",
      "\n",
      "Could not create share link. Please check your internet connection or our status page: https://status.gradio.app.\n"
     ]
    },
    {
     "data": {
      "text/html": [
       "<div><iframe src=\"http://127.0.0.1:17660/\" width=\"100%\" height=\"500\" allow=\"autoplay; camera; microphone; clipboard-read; clipboard-write;\" frameborder=\"0\" allowfullscreen></iframe></div>"
      ],
      "text/plain": [
       "<IPython.core.display.HTML object>"
      ]
     },
     "metadata": {},
     "output_type": "display_data"
    }
   ],
   "source": [
    "\n",
    "def chat(message, history, llms):\n",
    "    aiSystem = sys_dict.get(AI[llms.upper()])\n",
    "    aiSystem.messages = history\n",
    "    yield from aiSystem.stream(formatPrompt(\"user\",message), True)\n",
    "  \n",
    "llms_dropdown = gr.Dropdown(choices=[ai.value for ai in AI], label=\"Select model\")\n",
    "\n",
    "\n",
    "chat = gr.ChatInterface(fn=chat, \n",
    "                 type=\"messages\",\n",
    "                 additional_inputs=[llms_dropdown])\n",
    "\n",
    "chat.launch(share = True, server_port=17660, debug=True)"
   ]
  },
  {
   "cell_type": "code",
   "execution_count": null,
   "id": "4ec0e42d-76d0-47ad-a370-910a27572a3f",
   "metadata": {},
   "outputs": [],
   "source": []
  }
 ],
 "metadata": {
  "kernelspec": {
   "display_name": "Python 3 (ipykernel)",
   "language": "python",
   "name": "python3"
  },
  "language_info": {
   "codemirror_mode": {
    "name": "ipython",
    "version": 3
   },
   "file_extension": ".py",
   "mimetype": "text/x-python",
   "name": "python",
   "nbconvert_exporter": "python",
   "pygments_lexer": "ipython3",
   "version": "3.11.11"
  }
 },
 "nbformat": 4,
 "nbformat_minor": 5
}
